{
 "cells": [
  {
   "cell_type": "code",
   "execution_count": 1,
   "metadata": {},
   "outputs": [],
   "source": [
    "import os\n",
    "from neo4j import GraphDatabase\n",
    "from neo4j import exceptions\n",
    "from pyprojroot import here\n",
    "from dotenv import load_dotenv"
   ]
  },
  {
   "cell_type": "code",
   "execution_count": 2,
   "metadata": {},
   "outputs": [],
   "source": [
    "# import environment variables\n",
    "load_dotenv()\n",
    "URI = os.environ[\"NEO4J_URI\"]\n",
    "AUTH = (os.environ[\"NEO4J_USERNAME\"], os.environ[\"NEO4J_PASSWORD\"])\n",
    "DATABASE = os.environ[\"NEO4J_DATABASE\"]"
   ]
  },
  {
   "cell_type": "code",
   "execution_count": 3,
   "metadata": {},
   "outputs": [],
   "source": [
    "def testConnectivity():\n",
    "    try:\n",
    "        driver = GraphDatabase.driver(uri=URI, auth=AUTH)\n",
    "        session = driver.session(database=DATABASE)\n",
    "        driver.verify_connectivity()\n",
    "    except exceptions.ServiceUnavailable:\n",
    "        raise ValueError(\n",
    "            \"URL is incorrect. Could not connect to Neo4j database. Please try again.\")\n",
    "    except exceptions.AuthError:\n",
    "        raise ValueError(\n",
    "            \"the username and password are incorrect. Could not connect to Neo4j database. Please try again.\")\n",
    "    finally:\n",
    "        session.close()\n",
    "        driver.close()"
   ]
  },
  {
   "cell_type": "code",
   "execution_count": 4,
   "metadata": {},
   "outputs": [],
   "source": [
    "def executeQuery(query: str):\n",
    "    try:\n",
    "        driver = GraphDatabase.driver(uri=URI, auth=AUTH)\n",
    "        session = driver.session(database=DATABASE)\n",
    "        session.run(query)\n",
    "        #driver.execute_query(query)\n",
    "    except exceptions.ServiceUnavailable:\n",
    "        raise ValueError(\n",
    "            \"URL is incorrect. Could not connect to Neo4j database. Please try again.\")\n",
    "    except exceptions.AuthError:\n",
    "        raise ValueError(\n",
    "            \"the username and password are incorrect. Could not connect to Neo4j database. Please try again.\")\n",
    "    finally:\n",
    "        session.close()\n",
    "        driver.close()"
   ]
  },
  {
   "cell_type": "code",
   "execution_count": null,
   "metadata": {},
   "outputs": [],
   "source": [
    "def init_query()-> str:\n",
    "    query = \"\"\"\n",
    "        LOAD CSV WITH HEADERS FROM 'https://raw.githubusercontent.com/ahmedsaud-01/neo4J-samples/refs/heads/main/connect-explore-graph-db-python/data/laptops.csv'\n",
    "        AS row\n",
    "        MERGE (l:Laptop {id:row.index})\n",
    "        SET l.model = date(row.released),\n",
    "            l.brand = row.brand,\n",
    "            l.rating = toFloat(row.rating),\n",
    "            l.price = toFloat(row.price)\n",
    "\n",
    "    \"\"\"\n",
    "    return query\n",
    "\n",
    "\n",
    "executeQuery(init_query())"
   ]
  },
  {
   "cell_type": "code",
   "execution_count": 5,
   "metadata": {},
   "outputs": [],
   "source": [
    "# clean database\n",
    "EMPTYDBQRY = \"\"\"\n",
    "    MATCH (n)\n",
    "    DETACH DELETE n\n",
    "\"\"\"\n",
    "\n",
    "\n",
    "executeQuery(EMPTYDBQRY)"
   ]
  },
  {
   "cell_type": "code",
   "execution_count": 6,
   "metadata": {},
   "outputs": [],
   "source": [
    "\n",
    "executeQuery(\"\"\"\n",
    "    LOAD CSV WITH HEADERS FROM 'https://raw.githubusercontent.com/ahmedsaud-01/neo4J-samples/refs/heads/main/connect-explore-graph-db-python/data/imdb-movies-1990-2024-years.csv'    \n",
    "    as row LIMIT 50000\n",
    "    CALL (row){        \n",
    "        MERGE (m:Movie {id:row.tconst})\n",
    "            SET m.runtimeMinutes = row.runtimeMinutes,\n",
    "                m.releasedYear = date(row.startYear),                        \n",
    "                m.title = row.originalTitle,\n",
    "                m.averageRatings = toFloat(row.averageRating),\n",
    "                m.numVotes = toFloat(row.numVotes)\n",
    "        \n",
    "        MERGE (p:Person {name:trim(row.personName)})\n",
    "            SET p.personId = row.nconst\n",
    "        MERGE (p)-[:ACTED_IN]->(m)\n",
    "                    \n",
    "        FOREACH (genre in split(row.genres, ',') |                  // For each genre in the list of genres from the row (split by '|')\n",
    "            MERGE (g:Genre {name:trim(genre)})                      // Merge a Genre node with the genre's name from the row, trimming any extra spaces\n",
    "            MERGE (m)-[:OF_GENRE]->(g))                             // Create an IN_GENRE relationship from the Movie to the Genre\n",
    "        } IN TRANSACTIONS OF 1000 ROWS\n",
    "\"\"\")"
   ]
  }
 ],
 "metadata": {
  "kernelspec": {
   "display_name": "abc",
   "language": "python",
   "name": "python3"
  },
  "language_info": {
   "codemirror_mode": {
    "name": "ipython",
    "version": 3
   },
   "file_extension": ".py",
   "mimetype": "text/x-python",
   "name": "python",
   "nbconvert_exporter": "python",
   "pygments_lexer": "ipython3",
   "version": "3.11.0"
  }
 },
 "nbformat": 4,
 "nbformat_minor": 2
}
