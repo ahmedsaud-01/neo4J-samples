{
 "cells": [
  {
   "cell_type": "code",
   "execution_count": null,
   "id": "acadfd3a",
   "metadata": {},
   "outputs": [],
   "source": [
    "import os\n",
    "from neo4j import GraphDatabase\n",
    "from neo4j import exceptions\n",
    "from pyprojroot import here\n",
    "from dotenv import load_dotenv\n",
    "\n",
    "from langchain.chains import GraphCypherQAChain\n",
    "from langchain_openai import ChatOpenAI\n",
    "from langchain_community.graphs import Neo4jGraph"
   ]
  },
  {
   "cell_type": "code",
   "execution_count": 6,
   "id": "7709b07a",
   "metadata": {},
   "outputs": [],
   "source": [
    "# import environment variables\n",
    "load_dotenv()\n",
    "URI = os.environ[\"NEO4J_URI\"]\n",
    "AUTH = (os.environ[\"NEO4J_USERNAME\"], os.environ[\"NEO4J_PASSWORD\"])\n",
    "DATABASE = os.environ[\"NEO4J_DATABASE\"]"
   ]
  },
  {
   "cell_type": "code",
   "execution_count": 7,
   "id": "edbe3639",
   "metadata": {},
   "outputs": [
    {
     "name": "stdout",
     "output_type": "stream",
     "text": [
      "Node properties:\n",
      "Movie {id: STRING, runtimeMinutes: STRING, releasedYear: DATE, title: STRING, averageRatings: FLOAT, numVotes: FLOAT}\n",
      "Person {name: STRING, personId: STRING}\n",
      "Genre {name: STRING}\n",
      "Relationship properties:\n",
      "\n",
      "The relationships:\n",
      "(:Movie)-[:OF_GENRE]->(:Genre)\n",
      "(:Person)-[:ACTED_IN]->(:Movie)\n"
     ]
    }
   ],
   "source": [
    "graph = Neo4jGraph()\n",
    "graph.refresh_schema()\n",
    "print(graph.schema)"
   ]
  },
  {
   "cell_type": "code",
   "execution_count": 8,
   "id": "df564167",
   "metadata": {},
   "outputs": [
    {
     "name": "stdout",
     "output_type": "stream",
     "text": [
      "\n",
      "\n",
      "\u001b[1m> Entering new GraphCypherQAChain chain...\u001b[0m\n",
      "Generated Cypher:\n",
      "\u001b[32;1m\u001b[1;3mMATCH (p:Person)-[:ACTED_IN]->(m:Movie)-[:OF_GENRE]->(g:Genre)\n",
      "WHERE m.releasedYear = date(\"1995\") \n",
      "RETURN p.name, g.name, m.averageRatings\n",
      "ORDER BY m.averageRatings DESC\n",
      "LIMIT 3\u001b[0m\n",
      "Full Context:\n",
      "\u001b[32;1m\u001b[1;3m[{'p.name': 'Morgan Freeman', 'g.name': 'Drama', 'm.averageRatings': 8.6}, {'p.name': 'Brad Pitt', 'g.name': 'Drama', 'm.averageRatings': 8.6}, {'p.name': 'David Fincher', 'g.name': 'Drama', 'm.averageRatings': 8.6}]\u001b[0m\n",
      "\n",
      "\u001b[1m> Finished chain.\u001b[0m\n"
     ]
    },
    {
     "data": {
      "text/plain": [
       "{'query': 'Who are the actors of the three most popular genres of movies \\n                         released in 1995 based on user ratings arrange them in descreasing order?',\n",
       " 'result': 'Morgan Freeman, Brad Pitt, David Fincher are the actors of the three most popular genres of movies released in 1995 based on user ratings, arranged in decreasing order.'}"
      ]
     },
     "execution_count": 8,
     "metadata": {},
     "output_type": "execute_result"
    }
   ],
   "source": [
    "llm = ChatOpenAI(model=\"gpt-3.5-turbo\", temperature=0)\n",
    "chain = GraphCypherQAChain.from_llm(graph=graph, llm=llm, verbose=True, allow_dangerous_requests=True)\n",
    "response = chain.invoke({\"query\": \"\"\"Who are the actors of the three most popular genres of movies \n",
    "                         released in 1995 based on user ratings arrange them in descreasing order?\"\"\"})\n",
    "response"
   ]
  },
  {
   "cell_type": "code",
   "execution_count": 9,
   "id": "6cc013cc",
   "metadata": {},
   "outputs": [
    {
     "name": "stdout",
     "output_type": "stream",
     "text": [
      "\n",
      "\n",
      "\u001b[1m> Entering new GraphCypherQAChain chain...\u001b[0m\n",
      "Generated Cypher:\n",
      "\u001b[32;1m\u001b[1;3mMATCH (m:Movie {releasedYear: date(\"1995-01-01\")})\n",
      "RETURN m.title, m.averageRatings\n",
      "ORDER BY m.averageRatings DESC\n",
      "LIMIT 3\u001b[0m\n",
      "Full Context:\n",
      "\u001b[32;1m\u001b[1;3m[{'m.title': 'Se7en', 'm.averageRatings': 8.6}, {'m.title': 'The Usual Suspects', 'm.averageRatings': 8.5}, {'m.title': 'Braveheart', 'm.averageRatings': 8.3}]\u001b[0m\n",
      "\n",
      "\u001b[1m> Finished chain.\u001b[0m\n"
     ]
    },
    {
     "data": {
      "text/plain": [
       "{'query': 'Name 3 most popular movies released in 1995 and their actors  based on user ratings arrange them in descreasing order?',\n",
       " 'result': 'Se7en - 8.6 (Brad Pitt, Morgan Freeman)\\nThe Usual Suspects - 8.5 (Kevin Spacey, Gabriel Byrne)\\nBraveheart - 8.3 (Mel Gibson, Sophie Marceau)'}"
      ]
     },
     "execution_count": 9,
     "metadata": {},
     "output_type": "execute_result"
    }
   ],
   "source": [
    "llm = ChatOpenAI(model=\"gpt-3.5-turbo\", temperature=0)\n",
    "chain = GraphCypherQAChain.from_llm(graph=graph, llm=llm, verbose=True, allow_dangerous_requests=True)\n",
    "response = chain.invoke({\"query\": \"\"\"Name 3 most popular movies released in 1995 and their actors  based on user ratings arrange them in descreasing order?\"\"\"})\n",
    "response"
   ]
  },
  {
   "cell_type": "code",
   "execution_count": 10,
   "id": "22106535",
   "metadata": {},
   "outputs": [
    {
     "name": "stdout",
     "output_type": "stream",
     "text": [
      "\n",
      "\n",
      "\u001b[1m> Entering new GraphCypherQAChain chain...\u001b[0m\n",
      "Generated Cypher:\n",
      "\u001b[32;1m\u001b[1;3mMATCH (p:Person)-[:ACTED_IN]->(:Movie)-[:OF_GENRE]->(:Genre)\n",
      "WHERE (:Movie {releasedYear: 1995})-[:OF_GENRE]->(:Genre)\n",
      "RETURN p.name, COUNT(*) AS numMovies\n",
      "ORDER BY numMovies DESC\n",
      "LIMIT 3\u001b[0m\n",
      "Full Context:\n",
      "\u001b[32;1m\u001b[1;3m[]\u001b[0m\n",
      "\n",
      "\u001b[1m> Finished chain.\u001b[0m\n"
     ]
    },
    {
     "data": {
      "text/plain": [
       "{'query': 'Who are the actors of the three most popular genres of movies released in 1995 based on user ratings arrange them in descreasing order?',\n",
       " 'result': \"I don't know the answer.\"}"
      ]
     },
     "execution_count": 10,
     "metadata": {},
     "output_type": "execute_result"
    }
   ],
   "source": [
    "graph = Neo4jGraph()\n",
    "\n",
    "llm = ChatOpenAI(model=\"gpt-3.5-turbo\", temperature=0)\n",
    "chain = GraphCypherQAChain.from_llm(graph=graph, llm=llm, verbose=True, allow_dangerous_requests=True)\n",
    "response = chain.invoke({\"query\": \"\"\"Who are the actors of the three most popular genres of movies released in 1995 based on user ratings arrange them in descreasing order?\"\"\"})\n",
    "response"
   ]
  }
 ],
 "metadata": {
  "kernelspec": {
   "display_name": "abc",
   "language": "python",
   "name": "python3"
  },
  "language_info": {
   "codemirror_mode": {
    "name": "ipython",
    "version": 3
   },
   "file_extension": ".py",
   "mimetype": "text/x-python",
   "name": "python",
   "nbconvert_exporter": "python",
   "pygments_lexer": "ipython3",
   "version": "3.11.0"
  }
 },
 "nbformat": 4,
 "nbformat_minor": 5
}
